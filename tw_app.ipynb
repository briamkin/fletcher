{
 "cells": [
  {
   "cell_type": "code",
   "execution_count": 1,
   "metadata": {
    "collapsed": true
   },
   "outputs": [],
   "source": [
    "import requests\n",
    "from requests_oauthlib import OAuth1\n",
    "import cnfg\n",
    "import json\n",
    "import tweepy\n",
    "config = cnfg.load(\".twitter_config\")"
   ]
  },
  {
   "cell_type": "code",
   "execution_count": 2,
   "metadata": {
    "collapsed": true
   },
   "outputs": [],
   "source": [
    "# response = requests.get(\"http://thisismetis.com\")"
   ]
  },
  {
   "cell_type": "code",
   "execution_count": 3,
   "metadata": {
    "collapsed": false
   },
   "outputs": [],
   "source": [
    "# print response.text"
   ]
  },
  {
   "cell_type": "code",
   "execution_count": 4,
   "metadata": {
    "collapsed": true
   },
   "outputs": [],
   "source": [
    "oauth = OAuth1(config['consumer_key'],\n",
    "               config['consumer_secret'],\n",
    "               config['access_token'],\n",
    "               config['access_token_secret'])"
   ]
  },
  {
   "cell_type": "code",
   "execution_count": 44,
   "metadata": {
    "collapsed": false
   },
   "outputs": [],
   "source": [
    "response = requests.get(\"https://api.twitter.com/1.1/statuses/user_timeline.json\", auth=oauth)"
   ]
  },
  {
   "cell_type": "code",
   "execution_count": 45,
   "metadata": {
    "collapsed": false
   },
   "outputs": [],
   "source": [
    "tweets = response.json()"
   ]
  },
  {
   "cell_type": "code",
   "execution_count": 49,
   "metadata": {
    "collapsed": false
   },
   "outputs": [],
   "source": [
    "# for tweet in tweets:\n",
    "#     print tweet['text']\n",
    "#     print"
   ]
  },
  {
   "cell_type": "code",
   "execution_count": 8,
   "metadata": {
    "collapsed": true
   },
   "outputs": [],
   "source": [
    "bk_params = {'q':'data science', 'count':100}\n",
    "response = requests.get(\"https://api.twitter.com/1.1/search/tweets.json\",\n",
    "                       params=bk_params,\n",
    "                       auth=oauth)"
   ]
  },
  {
   "cell_type": "code",
   "execution_count": 9,
   "metadata": {
    "collapsed": false
   },
   "outputs": [],
   "source": [
    "# print json.dumps(response.json(), indent=2)\n",
    "tweets = response.json()['statuses']"
   ]
  },
  {
   "cell_type": "code",
   "execution_count": 10,
   "metadata": {
    "collapsed": false
   },
   "outputs": [],
   "source": [
    "# for tweet in tweets:\n",
    "#     print tweet['text']\n",
    "#     print"
   ]
  },
  {
   "cell_type": "code",
   "execution_count": 12,
   "metadata": {
    "collapsed": false
   },
   "outputs": [],
   "source": [
    "search_url = \"http://api.twitter.com/1.1/search/tweets.json\"\n",
    "next_page_url = response.json()['search_metadata']['next_results']\n",
    "url = search_url + next_page_url"
   ]
  },
  {
   "cell_type": "code",
   "execution_count": 13,
   "metadata": {
    "collapsed": false
   },
   "outputs": [],
   "source": [
    "response = requests.get(url, auth=oauth)"
   ]
  },
  {
   "cell_type": "code",
   "execution_count": 49,
   "metadata": {
    "collapsed": false
   },
   "outputs": [],
   "source": [
    "# for tweet in response.json()['statuses']:\n",
    "#     print tweet['text']\n",
    "#     print"
   ]
  },
  {
   "cell_type": "code",
   "execution_count": 14,
   "metadata": {
    "collapsed": true
   },
   "outputs": [],
   "source": [
    "auth = tweepy.OAuthHandler(config['consumer_key'], config['consumer_secret'])\n",
    "auth.set_access_token(config['access_token'], config['access_token_secret'])\n",
    "api = tweepy.API(auth)"
   ]
  },
  {
   "cell_type": "code",
   "execution_count": 15,
   "metadata": {
    "collapsed": true
   },
   "outputs": [],
   "source": [
    "irmak_tweets = api.user_timeline(\"frrmack\", count=10)"
   ]
  },
  {
   "cell_type": "code",
   "execution_count": 16,
   "metadata": {
    "collapsed": false
   },
   "outputs": [
    {
     "data": {
      "text/plain": [
       "tweepy.models.ResultSet"
      ]
     },
     "execution_count": 16,
     "metadata": {},
     "output_type": "execute_result"
    }
   ],
   "source": [
    "type(irmak_tweets)"
   ]
  },
  {
   "cell_type": "code",
   "execution_count": 17,
   "metadata": {
    "collapsed": false
   },
   "outputs": [],
   "source": [
    "# for tweet in irmak_tweets:\n",
    "#     print tweet.text\n",
    "#     print"
   ]
  },
  {
   "cell_type": "code",
   "execution_count": 21,
   "metadata": {
    "collapsed": true
   },
   "outputs": [],
   "source": [
    "results = tweepy.Cursor(api.search, q=\"#pydata\").items(200)"
   ]
  },
  {
   "cell_type": "code",
   "execution_count": 23,
   "metadata": {
    "collapsed": false
   },
   "outputs": [],
   "source": [
    "# for i, tweet in enumerate(results):\n",
    "#     if tweet.geo != None:\n",
    "#         print i, tweet.text\n",
    "#         print"
   ]
  },
  {
   "cell_type": "code",
   "execution_count": 50,
   "metadata": {
    "collapsed": false
   },
   "outputs": [],
   "source": [
    "# # from config import *\n",
    "# from TwitterAPI import TwitterAPI\n",
    "# import time\n",
    "\n",
    "# delay = 8 # seconds\n",
    "# while True:\n",
    "#     try:\n",
    "#         api = TwitterAPI(config['consumer_key'], config['consumer_secret'],\n",
    "#                          config['access_token_key'], config['access_token_secret'])\n",
    "#         r = api.request('statuses/filter', {'track':'data', 'locations':'-122.75,36.8,-121.75,37.8,-74,40,-73,41'})\n",
    "#         for item in r.get_iterator():\n",
    "#             print str(item)\n",
    "#             print\n",
    "# #         with open(file_location, \"tweets.txt\") as output:\n",
    "# #             for item in r.get_iterator():\n",
    "# #                 output.write(str(item) + \"\\n\")\n",
    "# #                 delay = max(8, delay/2)\n",
    "#     except:\n",
    "#         print \"Error\"\n",
    "#         print time.ctime()\n",
    "#         print \"Waiting \" + str(delay) + \" seconds\"\n",
    "#         time.sleep(delay)\n",
    "#         delay *= 2"
   ]
  },
  {
   "cell_type": "code",
   "execution_count": 51,
   "metadata": {
    "collapsed": true
   },
   "outputs": [],
   "source": [
    "# #Import the necessary methods from tweepy library\n",
    "# from tweepy.streaming import StreamListener\n",
    "# from tweepy import OAuthHandler\n",
    "# from tweepy import Stream\n",
    "# import cnfg\n",
    "# config = cnfg.load(\".twitter_config\")\n",
    "\n",
    "# #Variables that contains the user credentials to access Twitter API \n",
    "# access_token = config['access_token'] \n",
    "# access_token_secret = config['access_token_secret'] \n",
    "# consumer_key = config['consumer_key'] \n",
    "# consumer_secret = config['consumer_secret'] \n",
    "\n",
    "# #This is a basic listener that just prints received tweets to stdout.\n",
    "# class StdOutListener(StreamListener):\n",
    "\n",
    "#     def on_data(self, data):\n",
    "#         print data\n",
    "#         return True\n",
    "\n",
    "#     def on_error(self, status):\n",
    "#         print status\n",
    "\n",
    "\n",
    "# # if __name__ == '__main__':\n",
    "\n",
    "# #This handles Twitter authetification and the connection to Twitter Streaming API\n",
    "# l = StdOutListener()\n",
    "# auth = OAuthHandler(consumer_key, consumer_secret)\n",
    "# auth.set_access_token(access_token, access_token_secret)\n",
    "# stream = Stream(auth, l)\n",
    "\n",
    "# #This line filter Twitter Streams to capture data by the keywords: 'python', 'javascript', 'ruby'\n",
    "# stream.filter(track=['python', 'javascript', 'ruby'])"
   ]
  },
  {
   "cell_type": "code",
   "execution_count": null,
   "metadata": {
    "collapsed": true
   },
   "outputs": [],
   "source": []
  }
 ],
 "metadata": {
  "kernelspec": {
   "display_name": "Python 2",
   "language": "python",
   "name": "python2"
  },
  "language_info": {
   "codemirror_mode": {
    "name": "ipython",
    "version": 2
   },
   "file_extension": ".py",
   "mimetype": "text/x-python",
   "name": "python",
   "nbconvert_exporter": "python",
   "pygments_lexer": "ipython2",
   "version": "2.7.9"
  }
 },
 "nbformat": 4,
 "nbformat_minor": 0
}
