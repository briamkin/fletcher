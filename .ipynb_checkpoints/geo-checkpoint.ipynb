{
 "cells": [
  {
   "cell_type": "code",
   "execution_count": 1,
   "metadata": {
    "collapsed": true
   },
   "outputs": [],
   "source": [
    "import json\n",
    "from geo_json import *\n",
    "from county_geo import *\n",
    "from sklearn.externals import joblib\n",
    "from sklearn.neighbors import KDTree"
   ]
  },
  {
   "cell_type": "code",
   "execution_count": 2,
   "metadata": {
    "collapsed": true
   },
   "outputs": [],
   "source": [
    "# county_geo[1000]\n",
    "# import numpy as np\n",
    "# np.random.seed(0)\n",
    "# X = np.random.random((10, 3))  # 10 points in 3 dimensions\n",
    "# tree = KDTree(county_geo, leaf_size=10)                            \n",
    "# joblib.dump(tree, 'county_tree.pkl') "
   ]
  },
  {
   "cell_type": "code",
   "execution_count": 8,
   "metadata": {
    "collapsed": false
   },
   "outputs": [],
   "source": [
    "# county_tree = joblib.load('county_tree.pkl') \n",
    "# point = [40.749898, -73.985726]\n",
    "# dist, ind = county_tree.query(point, k=5)\n",
    "# indices = ind"
   ]
  },
  {
   "cell_type": "code",
   "execution_count": 7,
   "metadata": {
    "collapsed": false
   },
   "outputs": [],
   "source": [
    "# county_geo_dictionary[40.776557, -73.970174]"
   ]
  },
  {
   "cell_type": "code",
   "execution_count": 37,
   "metadata": {
    "collapsed": true
   },
   "outputs": [],
   "source": [
    "def in_polygon(point, poly):\n",
    "  x = point[0]\n",
    "  y = point[1]\n",
    "  n = len(poly)\n",
    "  status = False\n",
    "  p1x,p1y = poly[0]\n",
    "  for i in range(n+1):\n",
    "    p2x,p2y = poly[i % n]\n",
    "    if min(p1y,p2y) < y <= max(p1y,p2y):\n",
    "      if x <= max(p1x,p2x):\n",
    "        if p1y != p2y:\n",
    "          xinters = (y-p1y)*(p2x-p1x)/(p2y-p1y)+p1x\n",
    "        if p1x == p2x or x <= xinters:\n",
    "          status = not status\n",
    "    p1x,p1y = p2x,p2y\n",
    "\n",
    "  return status\n",
    "\n",
    "def find_nested(nested_list):\n",
    "    try:\n",
    "        nested_list[0][0][0]\n",
    "        nest = 1\n",
    "    except:\n",
    "        nest = 0\n",
    "    return nest\n",
    "    \n",
    "def find_county(point):\n",
    "    county_tree = joblib.load('county_tree.pkl') \n",
    "    dist, indices = county_tree.query(point, k=5)\n",
    "    fips_list = []\n",
    "    for index in indices[0]:\n",
    "        print county_geo[index][0],county_geo[index][1]\n",
    "        try:\n",
    "            fips = county_geo_dictionary[(county_geo[index][0],county_geo[index][1])]\n",
    "            fips_list.append(fips)\n",
    "        except:\n",
    "            pass\n",
    "#     print fips_list\n",
    "    if len(fips_list) > 0:\n",
    "        for fips_num in fips_list:\n",
    "            county_paths = all_county_boundaries[str(fips_num)]\n",
    "            if find_nested(county_paths) == 0:\n",
    "                if in_polygon(point, county_paths):\n",
    "                    return fips_num\n",
    "                    break\n",
    "            else:\n",
    "                for path in county_paths:\n",
    "                    if in_polygon(point, county_paths):\n",
    "                        return fips_num\n",
    "                        break\n",
    "    return None"
   ]
  },
  {
   "cell_type": "code",
   "execution_count": 38,
   "metadata": {
    "collapsed": false
   },
   "outputs": [
    {
     "name": "stdout",
     "output_type": "stream",
     "text": [
      "40.776557 -73.970174\n",
      "40.731384 -74.078627\n",
      "40.635133 -73.950777\n",
      "40.848711 -73.852939\n",
      "40.658557 -73.837929\n"
     ]
    },
    {
     "ename": "NameError",
     "evalue": "global name 'String' is not defined",
     "output_type": "error",
     "traceback": [
      "\u001b[0;31m---------------------------------------------------------------------------\u001b[0m",
      "\u001b[0;31mNameError\u001b[0m                                 Traceback (most recent call last)",
      "\u001b[0;32m<ipython-input-38-94d561b27fba>\u001b[0m in \u001b[0;36m<module>\u001b[0;34m()\u001b[0m\n\u001b[0;32m----> 1\u001b[0;31m \u001b[0;32mprint\u001b[0m \u001b[0mfind_county\u001b[0m\u001b[0;34m(\u001b[0m\u001b[0;34m[\u001b[0m\u001b[0;36m40.749898\u001b[0m\u001b[0;34m,\u001b[0m \u001b[0;34m-\u001b[0m\u001b[0;36m73.985726\u001b[0m\u001b[0;34m]\u001b[0m\u001b[0;34m)\u001b[0m\u001b[0;34m\u001b[0m\u001b[0m\n\u001b[0m",
      "\u001b[0;32m<ipython-input-37-569d229fe982>\u001b[0m in \u001b[0;36mfind_county\u001b[0;34m(point)\u001b[0m\n\u001b[1;32m     39\u001b[0m     \u001b[0;32mif\u001b[0m \u001b[0mlen\u001b[0m\u001b[0;34m(\u001b[0m\u001b[0mfips_list\u001b[0m\u001b[0;34m)\u001b[0m \u001b[0;34m>\u001b[0m \u001b[0;36m0\u001b[0m\u001b[0;34m:\u001b[0m\u001b[0;34m\u001b[0m\u001b[0m\n\u001b[1;32m     40\u001b[0m         \u001b[0;32mfor\u001b[0m \u001b[0mfips_num\u001b[0m \u001b[0;32min\u001b[0m \u001b[0mfips_list\u001b[0m\u001b[0;34m:\u001b[0m\u001b[0;34m\u001b[0m\u001b[0m\n\u001b[0;32m---> 41\u001b[0;31m             \u001b[0mcounty_paths\u001b[0m \u001b[0;34m=\u001b[0m \u001b[0mall_county_boundaries\u001b[0m\u001b[0;34m[\u001b[0m\u001b[0mString\u001b[0m\u001b[0;34m(\u001b[0m\u001b[0mfips_num\u001b[0m\u001b[0;34m)\u001b[0m\u001b[0;34m]\u001b[0m\u001b[0;34m\u001b[0m\u001b[0m\n\u001b[0m\u001b[1;32m     42\u001b[0m             \u001b[0;32mif\u001b[0m \u001b[0mfind_nested\u001b[0m\u001b[0;34m(\u001b[0m\u001b[0mcounty_paths\u001b[0m\u001b[0;34m)\u001b[0m \u001b[0;34m==\u001b[0m \u001b[0;36m0\u001b[0m\u001b[0;34m:\u001b[0m\u001b[0;34m\u001b[0m\u001b[0m\n\u001b[1;32m     43\u001b[0m                 \u001b[0;32mif\u001b[0m \u001b[0min_polygon\u001b[0m\u001b[0;34m(\u001b[0m\u001b[0mpoint\u001b[0m\u001b[0;34m,\u001b[0m \u001b[0mcounty_paths\u001b[0m\u001b[0;34m)\u001b[0m\u001b[0;34m:\u001b[0m\u001b[0;34m\u001b[0m\u001b[0m\n",
      "\u001b[0;31mNameError\u001b[0m: global name 'String' is not defined"
     ]
    }
   ],
   "source": [
    "print find_county([40.749898, -73.985726])"
   ]
  },
  {
   "cell_type": "code",
   "execution_count": 14,
   "metadata": {
    "collapsed": false
   },
   "outputs": [
    {
     "name": "stdout",
     "output_type": "stream",
     "text": [
      "midtown\n"
     ]
    }
   ],
   "source": [
    "locations = [[\"bronx\", [[40.915132, -73.912168],[40.799059, -73.918005],[40.814391, -73.779302],[40.881655, -73.782735]]], [\"harlem\", [[40.834370, -73.950320],[40.818913, -73.961478],[40.801243, -73.959247],[40.797084, -73.949290],[40.817614, -73.934012],[40.828006, -73.934871]]], [\"upper_west\", [[40.818913, -73.961478],[40.801243, -73.959247],[40.768767, -73.982015],[40.773057, -73.993516]]], [\"upper_east\", [[40.797084, -73.949290],[40.817614, -73.934012],[40.764275, -73.972852],[40.758798, -73.958775],[40.776219, -73.941094],[40.799159, -73.928306],]], [\"midtown\", [[40.801243, -73.959247],[40.768767, -73.982015],[40.764275, -73.972852],[40.758798, -73.958775],[40.726881, -73.971736],[40.745416, -74.015509]]], [\"downtown\", [[40.726881, -73.971736],[40.745416, -74.015509],[40.697279, -74.021947],[40.711984, -73.971307]]], [\"brooklyn\", [[40.738697, -73.965254],[40.707995, -73.972120],[40.704351, -73.996839],[40.674674, -74.029112],[40.607982, -74.049024],[40.559485, -74.020185],[40.601727, -73.820371],[40.694981, -73.869810]]], [\"queens\", [[40.694981, -73.869810],[40.738697, -73.965254],[40.791007, -73.908958],[40.801923, -73.775748],[40.731196, -73.705710],[40.574394, -73.754462],[0.544137, -73.952216],[40.566049, -73.915824],[40.601727, -73.820371]]], [\"san_fran\", [[37.707196, -122.503175],[37.711270, -122.348679],[37.837188, -122.364366],[37.800303, -122.527787]]], [\"west_bay\", [[37.416526, -121.994411],[37.361970, -122.120067],[37.627261, -122.498996],[37.707196, -122.503175],[37.711270, -122.348679]]], [\"east_bay\", [[37.486844, -121.872875],[37.451966, -121.947033],[37.502835, -122.102708],[37.961171, -122.443285],[38.080176, -122.165880]]], [\"south_bay\", [[37.486844, -121.872875],[37.451966, -121.947033],[37.416526, -121.994411],[37.361970, -122.120067],[37.222672, -121.927807],[37.305189, -121.750652]]]]\n",
    "def find_location(point):\n",
    "  for area in locations:\n",
    "    if in_polygon(point,area[1]):\n",
    "      return area[0]\n",
    "      break\n",
    "  else:\n",
    "    return None\n",
    "\n",
    "print find_location([40.749898, -73.985726])"
   ]
  },
  {
   "cell_type": "code",
   "execution_count": null,
   "metadata": {
    "collapsed": true
   },
   "outputs": [],
   "source": []
  }
 ],
 "metadata": {
  "kernelspec": {
   "display_name": "Python 2",
   "language": "python",
   "name": "python2"
  },
  "language_info": {
   "codemirror_mode": {
    "name": "ipython",
    "version": 2
   },
   "file_extension": ".py",
   "mimetype": "text/x-python",
   "name": "python",
   "nbconvert_exporter": "python",
   "pygments_lexer": "ipython2",
   "version": "2.7.9"
  }
 },
 "nbformat": 4,
 "nbformat_minor": 0
}
